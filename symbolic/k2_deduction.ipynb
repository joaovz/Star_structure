{
 "cells": [
  {
   "cell_type": "markdown",
   "metadata": {},
   "source": [
    "Deducing the k2 expression from the associated Legendre functions"
   ]
  },
  {
   "cell_type": "code",
   "execution_count": 1,
   "metadata": {},
   "outputs": [],
   "source": [
    "import sympy as sp"
   ]
  },
  {
   "cell_type": "code",
   "execution_count": 2,
   "metadata": {},
   "outputs": [],
   "source": [
    "# Defining the symbols and functions used\n",
    "x, r, M, R, C, y = sp.symbols('x r M R C y')\n",
    "\n",
    "P = sp.Function('P')(x)\n",
    "Q = sp.Function('Q')(x)\n",
    "\n",
    "P = 3 * (x**2 - 1)\n",
    "Q = sp.Rational(3, 2) * (x**2 - 1) * sp.log((x + 1) / (x - 1)) + (2 * x) / (x**2 - 1) - 3 * x"
   ]
  },
  {
   "cell_type": "code",
   "execution_count": 3,
   "metadata": {},
   "outputs": [],
   "source": [
    "# Simplification method\n",
    "def simplify_expr(expr):\n",
    "    expr = sp.simplify(expr)\n",
    "    expr = expr.subs(sp.log(-1 / (2 * C - 1)), -sp.log(1 - 2 * C))\n",
    "    expr = sp.expand(expr)\n",
    "    expr = sp.factor(expr)\n",
    "    expr = sp.collect(expr, sp.log(1 - 2 * C))\n",
    "    return expr"
   ]
  },
  {
   "cell_type": "code",
   "execution_count": 4,
   "metadata": {},
   "outputs": [
    {
     "data": {
      "text/latex": [
       "$\\displaystyle 3 x^{2} - 3$"
      ],
      "text/plain": [
       "3*x**2 - 3"
      ]
     },
     "execution_count": 4,
     "metadata": {},
     "output_type": "execute_result"
    }
   ],
   "source": [
    "# Showing the associated Legendre function of the first kind expression\n",
    "P"
   ]
  },
  {
   "cell_type": "code",
   "execution_count": 5,
   "metadata": {},
   "outputs": [
    {
     "data": {
      "text/latex": [
       "$\\displaystyle - 3 x + \\frac{2 x}{x^{2} - 1} + \\left(\\frac{3 x^{2}}{2} - \\frac{3}{2}\\right) \\log{\\left(\\frac{x + 1}{x - 1} \\right)}$"
      ],
      "text/plain": [
       "-3*x + 2*x/(x**2 - 1) + (3*x**2/2 - 3/2)*log((x + 1)/(x - 1))"
      ]
     },
     "execution_count": 5,
     "metadata": {},
     "output_type": "execute_result"
    }
   ],
   "source": [
    "# Showing the associated Legendre function of the second kind expression\n",
    "Q"
   ]
  },
  {
   "cell_type": "code",
   "execution_count": 6,
   "metadata": {},
   "outputs": [
    {
     "data": {
      "text/latex": [
       "$\\displaystyle 6 x$"
      ],
      "text/plain": [
       "6*x"
      ]
     },
     "execution_count": 6,
     "metadata": {},
     "output_type": "execute_result"
    }
   ],
   "source": [
    "# Calculating the derivative of P(x)\n",
    "dP_dx = sp.diff(P, x)\n",
    "dP_dx"
   ]
  },
  {
   "cell_type": "code",
   "execution_count": 7,
   "metadata": {},
   "outputs": [
    {
     "data": {
      "text/latex": [
       "$\\displaystyle \\frac{- 6 x^{4} + 10 x^{2} + \\left(3 x^{5} - 6 x^{3} + 3 x\\right) \\log{\\left(\\frac{x + 1}{x - 1} \\right)} - 8}{x^{4} - 2 x^{2} + 1}$"
      ],
      "text/plain": [
       "(-6*x**4 + 10*x**2 + (3*x**5 - 6*x**3 + 3*x)*log((x + 1)/(x - 1)) - 8)/(x**4 - 2*x**2 + 1)"
      ]
     },
     "execution_count": 7,
     "metadata": {},
     "output_type": "execute_result"
    }
   ],
   "source": [
    "# Calculating the derivative of Q(x)\n",
    "dQ_dx = sp.diff(Q, x)\n",
    "dQ_dx = sp.simplify(dQ_dx)\n",
    "dQ_dx = sp.collect(dQ_dx, sp.log((x + 1) / (x - 1)))\n",
    "dQ_dx"
   ]
  },
  {
   "cell_type": "code",
   "execution_count": 8,
   "metadata": {},
   "outputs": [
    {
     "data": {
      "text/latex": [
       "$\\displaystyle \\frac{3 \\cdot \\left(1 - 2 C\\right)}{C^{2}}$"
      ],
      "text/plain": [
       "3*(1 - 2*C)/C**2"
      ]
     },
     "execution_count": 8,
     "metadata": {},
     "output_type": "execute_result"
    }
   ],
   "source": [
    "# Substituting x -> (C**(-1) - 1) in P\n",
    "P = P.subs(x, C**(-1) - 1)\n",
    "P = sp.simplify(P)\n",
    "P"
   ]
  },
  {
   "cell_type": "code",
   "execution_count": 9,
   "metadata": {},
   "outputs": [
    {
     "data": {
      "text/latex": [
       "$\\displaystyle \\frac{4 C^{4} + 8 C^{3} - 18 C^{2} + 6 C + \\left(12 C^{2} - 12 C + 3\\right) \\log{\\left(1 - 2 C \\right)}}{2 C^{2} \\cdot \\left(2 C - 1\\right)}$"
      ],
      "text/plain": [
       "(4*C**4 + 8*C**3 - 18*C**2 + 6*C + (12*C**2 - 12*C + 3)*log(1 - 2*C))/(2*C**2*(2*C - 1))"
      ]
     },
     "execution_count": 9,
     "metadata": {},
     "output_type": "execute_result"
    }
   ],
   "source": [
    "# Substituting x -> (C**(-1) - 1) in Q\n",
    "Q = Q.subs(x, C**(-1) - 1)\n",
    "Q = simplify_expr(Q)\n",
    "Q"
   ]
  },
  {
   "cell_type": "code",
   "execution_count": 10,
   "metadata": {},
   "outputs": [
    {
     "data": {
      "text/latex": [
       "$\\displaystyle \\frac{6 \\cdot \\left(1 - C\\right)}{C M}$"
      ],
      "text/plain": [
       "6*(1 - C)/(C*M)"
      ]
     },
     "execution_count": 10,
     "metadata": {},
     "output_type": "execute_result"
    }
   ],
   "source": [
    "# Calculating the derivative of P(r) and substituting x -> (C**(-1) - 1)\n",
    "dP_dr = M**(-1) * dP_dx\n",
    "dP_dr = dP_dr.subs(x, C**(-1) - 1)\n",
    "dP_dr = sp.simplify(dP_dr)\n",
    "dP_dr"
   ]
  },
  {
   "cell_type": "code",
   "execution_count": 11,
   "metadata": {},
   "outputs": [
    {
     "data": {
      "text/latex": [
       "$\\displaystyle - \\frac{4 C^{5} - 4 C^{4} + 26 C^{3} - 24 C^{2} + 6 C + \\left(- 12 C^{3} + 24 C^{2} - 15 C + 3\\right) \\log{\\left(1 - 2 C \\right)}}{C M \\left(2 C - 1\\right)^{2}}$"
      ],
      "text/plain": [
       "-(4*C**5 - 4*C**4 + 26*C**3 - 24*C**2 + 6*C + (-12*C**3 + 24*C**2 - 15*C + 3)*log(1 - 2*C))/(C*M*(2*C - 1)**2)"
      ]
     },
     "execution_count": 11,
     "metadata": {},
     "output_type": "execute_result"
    }
   ],
   "source": [
    "# Calculating the derivative of Q(r) and substituting x -> (C**(-1) - 1)\n",
    "dQ_dr = M**(-1) * dQ_dx\n",
    "dQ_dr = dQ_dr.subs(x, C**(-1) - 1)\n",
    "dQ_dr = simplify_expr(dQ_dr)\n",
    "dQ_dr"
   ]
  },
  {
   "cell_type": "code",
   "execution_count": 12,
   "metadata": {},
   "outputs": [
    {
     "data": {
      "text/latex": [
       "$\\displaystyle \\frac{3 \\cdot \\left(2 C y - 2 C - y + 2\\right)}{C^{2}}$"
      ],
      "text/plain": [
       "3*(2*C*y - 2*C - y + 2)/C**2"
      ]
     },
     "execution_count": 12,
     "metadata": {},
     "output_type": "execute_result"
    }
   ],
   "source": [
    "# Calculating the numerator of the k2 expression\n",
    "numerator = R * dP_dr - y * P\n",
    "numerator = numerator.subs(R / M, C**(-1))\n",
    "numerator = simplify_expr(numerator)\n",
    "numerator"
   ]
  },
  {
   "cell_type": "code",
   "execution_count": 13,
   "metadata": {},
   "outputs": [
    {
     "data": {
      "text/latex": [
       "$\\displaystyle \\frac{8 C^{5} y + 8 C^{5} + 12 C^{4} y - 8 C^{4} - 44 C^{3} y + 52 C^{3} + 30 C^{2} y - 48 C^{2} - 6 C y + 12 C + \\left(24 C^{3} y - 24 C^{3} - 36 C^{2} y + 48 C^{2} + 18 C y - 30 C - 3 y + 6\\right) \\log{\\left(1 - 2 C \\right)}}{2 C^{2} \\left(2 C - 1\\right)^{2}}$"
      ],
      "text/plain": [
       "(8*C**5*y + 8*C**5 + 12*C**4*y - 8*C**4 - 44*C**3*y + 52*C**3 + 30*C**2*y - 48*C**2 - 6*C*y + 12*C + (24*C**3*y - 24*C**3 - 36*C**2*y + 48*C**2 + 18*C*y - 30*C - 3*y + 6)*log(1 - 2*C))/(2*C**2*(2*C - 1)**2)"
      ]
     },
     "execution_count": 13,
     "metadata": {},
     "output_type": "execute_result"
    }
   ],
   "source": [
    "# Calculating the denominator of the k2 expression\n",
    "denominator = y * Q - R * dQ_dr\n",
    "denominator = denominator.subs(R / M, C**(-1))\n",
    "denominator = simplify_expr(denominator)\n",
    "denominator"
   ]
  },
  {
   "cell_type": "code",
   "execution_count": 14,
   "metadata": {},
   "outputs": [
    {
     "data": {
      "text/latex": [
       "$\\displaystyle \\frac{8 C^{5} \\left(2 C - 1\\right)^{2} \\cdot \\left(2 C y - 2 C - y + 2\\right)}{5 \\cdot \\left(8 C^{5} y + 8 C^{5} + 12 C^{4} y - 8 C^{4} - 44 C^{3} y + 52 C^{3} + 30 C^{2} y - 48 C^{2} - 6 C y + 12 C + \\left(24 C^{3} y - 24 C^{3} - 36 C^{2} y + 48 C^{2} + 18 C y - 30 C - 3 y + 6\\right) \\log{\\left(1 - 2 C \\right)}\\right)}$"
      ],
      "text/plain": [
       "8*C**5*(2*C - 1)**2*(2*C*y - 2*C - y + 2)/(5*(8*C**5*y + 8*C**5 + 12*C**4*y - 8*C**4 - 44*C**3*y + 52*C**3 + 30*C**2*y - 48*C**2 - 6*C*y + 12*C + (24*C**3*y - 24*C**3 - 36*C**2*y + 48*C**2 + 18*C*y - 30*C - 3*y + 6)*log(1 - 2*C)))"
      ]
     },
     "execution_count": 14,
     "metadata": {},
     "output_type": "execute_result"
    }
   ],
   "source": [
    "# Calculating the final k2 expression\n",
    "k2 = sp.Rational(4, 15) * C**5 * numerator / denominator\n",
    "k2 = simplify_expr(k2)\n",
    "k2"
   ]
  },
  {
   "cell_type": "code",
   "execution_count": 15,
   "metadata": {},
   "outputs": [
    {
     "data": {
      "text/latex": [
       "$\\displaystyle \\frac{8 C^{5} \\left(1 - 2 C\\right)^{2} \\cdot \\left(2 C \\left(y - 1\\right) - y + 2\\right)}{5 \\cdot \\left(4 C^{3} \\cdot \\left(2 C^{2} \\left(y + 1\\right) + C \\left(3 y - 2\\right) - 11 y + 13\\right) + 2 C \\left(3 C \\left(5 y - 8\\right) - 3 y + 6\\right) + 3 \\left(1 - 2 C\\right)^{2} \\cdot \\left(2 C \\left(y - 1\\right) - y + 2\\right) \\log{\\left(1 - 2 C \\right)}\\right)}$"
      ],
      "text/plain": [
       "8*C**5*(1 - 2*C)**2*(2*C*(y - 1) - y + 2)/(5*(4*C**3*(2*C**2*(y + 1) + C*(3*y - 2) - 11*y + 13) + 2*C*(3*C*(5*y - 8) - 3*y + 6) + 3*(1 - 2*C)**2*(2*C*(y - 1) - y + 2)*log(1 - 2*C)))"
      ]
     },
     "execution_count": 15,
     "metadata": {},
     "output_type": "execute_result"
    }
   ],
   "source": [
    "# Writing the correct k2 expression found in the paper to compare\n",
    "k2_paper = sp.Rational(8, 5) * C**5 * (1 - 2 * C)**2 * (2 + 2 * C * (y - 1) - y) *(\n",
    "    2 * C * (6 - 3 * y + 3 * C * (5 * y - 8)) +\n",
    "    4 * C**3 * (13 - 11 * y + C * (3 * y - 2) + 2 * C**2 * (1 + y)) +\n",
    "    3 * (1 - 2 * C)**2 * (2 - y + 2 * C * (y - 1)) * sp.log(1 - 2 * C)\n",
    ")**(-1)\n",
    "k2_paper"
   ]
  },
  {
   "cell_type": "code",
   "execution_count": 16,
   "metadata": {},
   "outputs": [
    {
     "data": {
      "text/plain": [
       "True"
      ]
     },
     "execution_count": 16,
     "metadata": {},
     "output_type": "execute_result"
    }
   ],
   "source": [
    "# Check if the deduced k2 expression is correct\n",
    "k2.expand() == k2_paper.expand()"
   ]
  }
 ],
 "metadata": {
  "kernelspec": {
   "display_name": "physics",
   "language": "python",
   "name": "python3"
  },
  "language_info": {
   "codemirror_mode": {
    "name": "ipython",
    "version": 3
   },
   "file_extension": ".py",
   "mimetype": "text/x-python",
   "name": "python",
   "nbconvert_exporter": "python",
   "pygments_lexer": "ipython3",
   "version": "3.10.11"
  }
 },
 "nbformat": 4,
 "nbformat_minor": 2
}
